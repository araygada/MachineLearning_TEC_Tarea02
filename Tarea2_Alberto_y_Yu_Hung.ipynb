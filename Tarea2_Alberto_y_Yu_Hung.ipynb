{
 "cells": [
  {
   "cell_type": "markdown",
   "id": "591e849b",
   "metadata": {},
   "source": [
    "# Tecnológico de Costa Rica\n",
    "## Programa de Ciencia de Datos\n",
    "### Prof. Felipe Meza Obando,\n",
    "\n",
    "#### Aprendizaje automático (4B)\n",
    "#### Tarea-2\n",
    "\n",
    "--- \n",
    "Medio de entrega: Link de GitHub\n",
    "\n",
    "Entregables: Un archivo jupyter ( .IPYNB ). \n",
    "\n",
    "Modo de trabajo: Parejas:\n",
    "Estudiantes:\n",
    "\n",
    "Yu Hung Yeh Chai\n",
    "\n",
    "José Alberto Raygada Agüero\n",
    "\n",
    "---\n",
    "\n",
    "Objetivo\n",
    "El objetivo de la Tarea 2 consiste en elegir un dataset, ejecutar las diferentes tareas de pre-procesado y crear un tutorial sobre el uso de PANDAS\n",
    "\n",
    "---"
   ]
  },
  {
   "cell_type": "markdown",
   "id": "39b6dfe5",
   "metadata": {},
   "source": [
    "## Tutorial para el pre-procesado de un dataset utilizando la librería Pandas\n",
    "\n",
    "### 1. ¿En qué consiste y por qué es necesario realizar el procesado de nuestro dataset?\n",
    "\n",
    "Un sistema de Apredizaje Automático (Machine Lerning, ML) no es capaz de reconocer lo que en idioma inglés se conoce como gibberish, que son todos aquellos signos, símbolos o lenguaje en general que no posee un sentido claro y que puede incluir sonidos del habla que no son palabras reales, juegos de lenguaje y jerga especializada que parece absurda para los no especialistas; por tal motivo muy frecuentemente se requiere limpiar nuestro dataset antes de poder aplicar nuestros algoritmos de ML."
   ]
  },
  {
   "cell_type": "markdown",
   "id": "b388aaef",
   "metadata": {},
   "source": [
    "## 2. Exploración inicial de los datos\n",
    "\n",
    "Para decidir cómo limpiar nuestros datos necesitamos estar familiarizados con los mismos. Para tal efecto podemos realizar dos tareas que no son mutuamente excluyentes: primero, escanear los datos y segundo, visualizar la data; esto depende del tipo de datos que estemos manejando, lo más frecuente es que trabajemos con una matriz numérica pero podría tratarse de dataos de imágenes, audio, texto u otro tipo de información.\n",
    "\n",
    "Lo que deseamos conocer es si la base de datos posee **valores faltantes (missing values)**, cómo se encuentran distribuidos los valores y qué tipo de **características (features)** presenta. "
   ]
  },
  {
   "cell_type": "markdown",
   "id": "fb5a6697",
   "metadata": {},
   "source": [
    "### 2.1 Manejo de los valores faltantes\n",
    "\n",
    "Muy frecuentemente se carecerá de valores para ciertas características. Esto puede ocurrir por varias razones, como que sea inconveniente, muy oneroso o a veces imposible encontrar un valor en particular.\n",
    "\n",
    "La primera respuesta cuando nos encontramos ante valores faltantes es ignorarlos, sin embargo, como se mencionó antes, algunos algoritmos no podrán funcionar con datos incompletos o bien, los resultados podrían no ser precisos.\n",
    "\n",
    "La segunda solución es sustituir los valores faltantes con un valor fijo - esta técnica se denomina **imputar (imputing)**; podríamos imputar **la media aritmética (mean), la mediana (median) o la moda (mode)** de los valores válidos para una determinada característica. Idealmente deberíamos contar con un conocimiento previo que sea lo suficientemente confiable. \n",
    "\n",
    "_____\n",
    "**Referencias:**\n",
    "\n",
    "***Python Machine Learning By Example by Yuxi (Hayden) Liu.*** 2020, Third edition. Preprocessing and exploration, pág. 26."
   ]
  },
  {
   "cell_type": "markdown",
   "id": "a4ed96f2",
   "metadata": {},
   "source": [
    "-----\n",
    "\n",
    "#### Descripción del dataset a utilizar\n",
    "\n",
    "Se utilizará como data set el registro histórico de erupciones volcánicas tomado del sitio  https://data.world/stuartltinsley/volcanic-eruptions-data-set"
   ]
  },
  {
   "cell_type": "code",
   "execution_count": 1,
   "id": "8beac7a4",
   "metadata": {},
   "outputs": [],
   "source": [
    "%matplotlib inline\n",
    "import matplotlib\n",
    "import matplotlib.pyplot as plt\n",
    "import numpy as np\n",
    "import pandas as pd\n",
    "from sklearn.impute import SimpleImputer\n",
    "import sklearn\n",
    "from sklearn.preprocessing import MinMaxScaler\n",
    "import sklearn.preprocessing\n",
    "\n",
    "#Funciones\n",
    "def bold(t):\n",
    "    \"\"\"\n",
    "    Funcion para formatear en negrita el texto.\n",
    "    t = cualquier dato\n",
    "    \"\"\"\n",
    "    return \"\\033[1m\" + str(t) + \"\\033[0m\"\n",
    "\n",
    "def newline():\n",
    "    \"\"\"\n",
    "    Funcion para imprimir cambio de linea\n",
    "    \"\"\"\n",
    "    print(\"\\r\\n\")\n",
    "    \n"
   ]
  },
  {
   "cell_type": "markdown",
   "id": "29c7c91b",
   "metadata": {},
   "source": [
    "-----\n",
    "\n",
    "#### Descripción del dataset a utilizar\n",
    "\n",
    "Se procede con la carga de datos de estadísticas de videos Trending de videos de USA de Youtube https://www.kaggle.com/datasnaek/youtube-new\n"
   ]
  },
  {
   "cell_type": "code",
   "execution_count": 2,
   "id": "322f63a0",
   "metadata": {},
   "outputs": [
    {
     "data": {
      "text/html": [
       "<div>\n",
       "<style scoped>\n",
       "    .dataframe tbody tr th:only-of-type {\n",
       "        vertical-align: middle;\n",
       "    }\n",
       "\n",
       "    .dataframe tbody tr th {\n",
       "        vertical-align: top;\n",
       "    }\n",
       "\n",
       "    .dataframe thead th {\n",
       "        text-align: right;\n",
       "    }\n",
       "</style>\n",
       "<table border=\"1\" class=\"dataframe\">\n",
       "  <thead>\n",
       "    <tr style=\"text-align: right;\">\n",
       "      <th></th>\n",
       "      <th>video_id</th>\n",
       "      <th>trending_date</th>\n",
       "      <th>title</th>\n",
       "      <th>channel_title</th>\n",
       "      <th>category_id</th>\n",
       "      <th>publish_time</th>\n",
       "      <th>tags</th>\n",
       "      <th>views</th>\n",
       "      <th>likes</th>\n",
       "      <th>dislikes</th>\n",
       "      <th>comment_count</th>\n",
       "      <th>thumbnail_link</th>\n",
       "      <th>comments_disabled</th>\n",
       "      <th>ratings_disabled</th>\n",
       "      <th>video_error_or_removed</th>\n",
       "      <th>description</th>\n",
       "    </tr>\n",
       "  </thead>\n",
       "  <tbody>\n",
       "    <tr>\n",
       "      <th>0</th>\n",
       "      <td>2kyS6SvSYSE</td>\n",
       "      <td>17.14.11</td>\n",
       "      <td>WE WANT TO TALK ABOUT OUR MARRIAGE</td>\n",
       "      <td>CaseyNeistat</td>\n",
       "      <td>22</td>\n",
       "      <td>2017-11-13T17:13:01.000Z</td>\n",
       "      <td>SHANtell martin</td>\n",
       "      <td>748374</td>\n",
       "      <td>57527</td>\n",
       "      <td>2966</td>\n",
       "      <td>15954</td>\n",
       "      <td>https://i.ytimg.com/vi/2kyS6SvSYSE/default.jpg</td>\n",
       "      <td>False</td>\n",
       "      <td>False</td>\n",
       "      <td>False</td>\n",
       "      <td>SHANTELL'S CHANNEL - https://www.youtube.com/s...</td>\n",
       "    </tr>\n",
       "    <tr>\n",
       "      <th>1</th>\n",
       "      <td>1ZAPwfrtAFY</td>\n",
       "      <td>17.14.11</td>\n",
       "      <td>The Trump Presidency: Last Week Tonight with J...</td>\n",
       "      <td>LastWeekTonight</td>\n",
       "      <td>24</td>\n",
       "      <td>2017-11-13T07:30:00.000Z</td>\n",
       "      <td>last week tonight trump presidency|\"last week ...</td>\n",
       "      <td>2418783</td>\n",
       "      <td>97185</td>\n",
       "      <td>6146</td>\n",
       "      <td>12703</td>\n",
       "      <td>https://i.ytimg.com/vi/1ZAPwfrtAFY/default.jpg</td>\n",
       "      <td>False</td>\n",
       "      <td>False</td>\n",
       "      <td>False</td>\n",
       "      <td>One year after the presidential election, John...</td>\n",
       "    </tr>\n",
       "    <tr>\n",
       "      <th>2</th>\n",
       "      <td>5qpjK5DgCt4</td>\n",
       "      <td>17.14.11</td>\n",
       "      <td>Racist Superman | Rudy Mancuso, King Bach &amp; Le...</td>\n",
       "      <td>Rudy Mancuso</td>\n",
       "      <td>23</td>\n",
       "      <td>2017-11-12T19:05:24.000Z</td>\n",
       "      <td>racist superman|\"rudy\"|\"mancuso\"|\"king\"|\"bach\"...</td>\n",
       "      <td>3191434</td>\n",
       "      <td>146033</td>\n",
       "      <td>5339</td>\n",
       "      <td>8181</td>\n",
       "      <td>https://i.ytimg.com/vi/5qpjK5DgCt4/default.jpg</td>\n",
       "      <td>False</td>\n",
       "      <td>False</td>\n",
       "      <td>False</td>\n",
       "      <td>WATCH MY PREVIOUS VIDEO ▶ \\n\\nSUBSCRIBE ► http...</td>\n",
       "    </tr>\n",
       "    <tr>\n",
       "      <th>3</th>\n",
       "      <td>puqaWrEC7tY</td>\n",
       "      <td>17.14.11</td>\n",
       "      <td>Nickelback Lyrics: Real or Fake?</td>\n",
       "      <td>Good Mythical Morning</td>\n",
       "      <td>24</td>\n",
       "      <td>2017-11-13T11:00:04.000Z</td>\n",
       "      <td>rhett and link|\"gmm\"|\"good mythical morning\"|\"...</td>\n",
       "      <td>343168</td>\n",
       "      <td>10172</td>\n",
       "      <td>666</td>\n",
       "      <td>2146</td>\n",
       "      <td>https://i.ytimg.com/vi/puqaWrEC7tY/default.jpg</td>\n",
       "      <td>False</td>\n",
       "      <td>False</td>\n",
       "      <td>False</td>\n",
       "      <td>Today we find out if Link is a Nickelback amat...</td>\n",
       "    </tr>\n",
       "    <tr>\n",
       "      <th>4</th>\n",
       "      <td>d380meD0W0M</td>\n",
       "      <td>17.14.11</td>\n",
       "      <td>I Dare You: GOING BALD!?</td>\n",
       "      <td>nigahiga</td>\n",
       "      <td>24</td>\n",
       "      <td>2017-11-12T18:01:41.000Z</td>\n",
       "      <td>ryan|\"higa\"|\"higatv\"|\"nigahiga\"|\"i dare you\"|\"...</td>\n",
       "      <td>2095731</td>\n",
       "      <td>132235</td>\n",
       "      <td>1989</td>\n",
       "      <td>17518</td>\n",
       "      <td>https://i.ytimg.com/vi/d380meD0W0M/default.jpg</td>\n",
       "      <td>False</td>\n",
       "      <td>False</td>\n",
       "      <td>False</td>\n",
       "      <td>I know it's been a while since we did this sho...</td>\n",
       "    </tr>\n",
       "  </tbody>\n",
       "</table>\n",
       "</div>"
      ],
      "text/plain": [
       "      video_id trending_date  \\\n",
       "0  2kyS6SvSYSE      17.14.11   \n",
       "1  1ZAPwfrtAFY      17.14.11   \n",
       "2  5qpjK5DgCt4      17.14.11   \n",
       "3  puqaWrEC7tY      17.14.11   \n",
       "4  d380meD0W0M      17.14.11   \n",
       "\n",
       "                                               title          channel_title  \\\n",
       "0                 WE WANT TO TALK ABOUT OUR MARRIAGE           CaseyNeistat   \n",
       "1  The Trump Presidency: Last Week Tonight with J...        LastWeekTonight   \n",
       "2  Racist Superman | Rudy Mancuso, King Bach & Le...           Rudy Mancuso   \n",
       "3                   Nickelback Lyrics: Real or Fake?  Good Mythical Morning   \n",
       "4                           I Dare You: GOING BALD!?               nigahiga   \n",
       "\n",
       "   category_id              publish_time  \\\n",
       "0           22  2017-11-13T17:13:01.000Z   \n",
       "1           24  2017-11-13T07:30:00.000Z   \n",
       "2           23  2017-11-12T19:05:24.000Z   \n",
       "3           24  2017-11-13T11:00:04.000Z   \n",
       "4           24  2017-11-12T18:01:41.000Z   \n",
       "\n",
       "                                                tags    views   likes  \\\n",
       "0                                    SHANtell martin   748374   57527   \n",
       "1  last week tonight trump presidency|\"last week ...  2418783   97185   \n",
       "2  racist superman|\"rudy\"|\"mancuso\"|\"king\"|\"bach\"...  3191434  146033   \n",
       "3  rhett and link|\"gmm\"|\"good mythical morning\"|\"...   343168   10172   \n",
       "4  ryan|\"higa\"|\"higatv\"|\"nigahiga\"|\"i dare you\"|\"...  2095731  132235   \n",
       "\n",
       "   dislikes  comment_count                                  thumbnail_link  \\\n",
       "0      2966          15954  https://i.ytimg.com/vi/2kyS6SvSYSE/default.jpg   \n",
       "1      6146          12703  https://i.ytimg.com/vi/1ZAPwfrtAFY/default.jpg   \n",
       "2      5339           8181  https://i.ytimg.com/vi/5qpjK5DgCt4/default.jpg   \n",
       "3       666           2146  https://i.ytimg.com/vi/puqaWrEC7tY/default.jpg   \n",
       "4      1989          17518  https://i.ytimg.com/vi/d380meD0W0M/default.jpg   \n",
       "\n",
       "   comments_disabled  ratings_disabled  video_error_or_removed  \\\n",
       "0              False             False                   False   \n",
       "1              False             False                   False   \n",
       "2              False             False                   False   \n",
       "3              False             False                   False   \n",
       "4              False             False                   False   \n",
       "\n",
       "                                         description  \n",
       "0  SHANTELL'S CHANNEL - https://www.youtube.com/s...  \n",
       "1  One year after the presidential election, John...  \n",
       "2  WATCH MY PREVIOUS VIDEO ▶ \\n\\nSUBSCRIBE ► http...  \n",
       "3  Today we find out if Link is a Nickelback amat...  \n",
       "4  I know it's been a while since we did this sho...  "
      ]
     },
     "execution_count": 2,
     "metadata": {},
     "output_type": "execute_result"
    }
   ],
   "source": [
    "df = pd.read_csv(r\"usvideos.csv\")\n",
    "\n",
    "df.head()"
   ]
  },
  {
   "cell_type": "markdown",
   "id": "041f4cfe",
   "metadata": {},
   "source": [
    "Una de las primeras tareas que debemos aplicar es la identificación de datos no numéricos (NaN)"
   ]
  },
  {
   "cell_type": "code",
   "execution_count": 3,
   "id": "2d269ca6",
   "metadata": {},
   "outputs": [
    {
     "data": {
      "text/plain": [
       "video_id                    0\n",
       "trending_date               0\n",
       "title                       0\n",
       "channel_title               0\n",
       "category_id                 0\n",
       "publish_time                0\n",
       "tags                        0\n",
       "views                       0\n",
       "likes                       0\n",
       "dislikes                    0\n",
       "comment_count               0\n",
       "thumbnail_link              0\n",
       "comments_disabled           0\n",
       "ratings_disabled            0\n",
       "video_error_or_removed      0\n",
       "description               570\n",
       "dtype: int64"
      ]
     },
     "execution_count": 3,
     "metadata": {},
     "output_type": "execute_result"
    }
   ],
   "source": [
    "df.isnull().sum()"
   ]
  },
  {
   "cell_type": "markdown",
   "id": "cdc48557",
   "metadata": {},
   "source": [
    "Se dectectó que la columna \"description\" es la única que contiene NaN's pero es columna de texto y sin categorías que no agrega valor en el modelo de análisis de Machine Learning, por lo que se va a eliminar esta columna."
   ]
  },
  {
   "cell_type": "code",
   "execution_count": 4,
   "id": "24e4919c",
   "metadata": {},
   "outputs": [
    {
     "data": {
      "text/plain": [
       "Index(['video_id', 'trending_date', 'title', 'channel_title', 'category_id',\n",
       "       'publish_time', 'tags', 'views', 'likes', 'dislikes', 'comment_count',\n",
       "       'thumbnail_link', 'comments_disabled', 'ratings_disabled',\n",
       "       'video_error_or_removed'],\n",
       "      dtype='object')"
      ]
     },
     "execution_count": 4,
     "metadata": {},
     "output_type": "execute_result"
    }
   ],
   "source": [
    "df.drop('description', axis='columns', inplace=True)\n",
    "df.columns"
   ]
  },
  {
   "cell_type": "code",
   "execution_count": 5,
   "id": "42dd9485",
   "metadata": {},
   "outputs": [
    {
     "data": {
      "text/plain": [
       "Index(['video_id', 'trending_date', 'title', 'channel_title', 'category_id',\n",
       "       'publish_time', 'tags', 'views', 'likes', 'dislikes', 'comment_count',\n",
       "       'thumbnail_link', 'comments_disabled', 'ratings_disabled',\n",
       "       'video_error_or_removed'],\n",
       "      dtype='object')"
      ]
     },
     "execution_count": 5,
     "metadata": {},
     "output_type": "execute_result"
    }
   ],
   "source": [
    "# Detalle de columnas originales\n",
    "\n",
    "df.columns"
   ]
  },
  {
   "cell_type": "markdown",
   "id": "8a1d91c2",
   "metadata": {},
   "source": [
    "El siguiente proceso a seguir es la eliminación de todas aquellas columnas que no representan datos numéricos o categorías y por lo tanto no son relevantes para el modelo de ML."
   ]
  },
  {
   "cell_type": "code",
   "execution_count": 6,
   "id": "610f1dc5",
   "metadata": {},
   "outputs": [
    {
     "data": {
      "text/plain": [
       "Index(['category_id', 'views', 'likes', 'dislikes', 'comment_count',\n",
       "       'comments_disabled', 'ratings_disabled', 'video_error_or_removed'],\n",
       "      dtype='object')"
      ]
     },
     "execution_count": 6,
     "metadata": {},
     "output_type": "execute_result"
    }
   ],
   "source": [
    "df = df.drop(columns = ['video_id','trending_date','title','channel_title','publish_time','tags','thumbnail_link'])\n",
    "df.columns"
   ]
  },
  {
   "cell_type": "markdown",
   "id": "72f8b63c",
   "metadata": {},
   "source": [
    "Seguidamente se debe hacer otra revisión de los datos para identificar que otro preprocesamiento de datos se requiere:"
   ]
  },
  {
   "cell_type": "code",
   "execution_count": 7,
   "id": "04339e33",
   "metadata": {},
   "outputs": [
    {
     "data": {
      "text/html": [
       "<div>\n",
       "<style scoped>\n",
       "    .dataframe tbody tr th:only-of-type {\n",
       "        vertical-align: middle;\n",
       "    }\n",
       "\n",
       "    .dataframe tbody tr th {\n",
       "        vertical-align: top;\n",
       "    }\n",
       "\n",
       "    .dataframe thead th {\n",
       "        text-align: right;\n",
       "    }\n",
       "</style>\n",
       "<table border=\"1\" class=\"dataframe\">\n",
       "  <thead>\n",
       "    <tr style=\"text-align: right;\">\n",
       "      <th></th>\n",
       "      <th>category_id</th>\n",
       "      <th>views</th>\n",
       "      <th>likes</th>\n",
       "      <th>dislikes</th>\n",
       "      <th>comment_count</th>\n",
       "      <th>comments_disabled</th>\n",
       "      <th>ratings_disabled</th>\n",
       "      <th>video_error_or_removed</th>\n",
       "    </tr>\n",
       "  </thead>\n",
       "  <tbody>\n",
       "    <tr>\n",
       "      <th>0</th>\n",
       "      <td>22</td>\n",
       "      <td>748374</td>\n",
       "      <td>57527</td>\n",
       "      <td>2966</td>\n",
       "      <td>15954</td>\n",
       "      <td>False</td>\n",
       "      <td>False</td>\n",
       "      <td>False</td>\n",
       "    </tr>\n",
       "    <tr>\n",
       "      <th>1</th>\n",
       "      <td>24</td>\n",
       "      <td>2418783</td>\n",
       "      <td>97185</td>\n",
       "      <td>6146</td>\n",
       "      <td>12703</td>\n",
       "      <td>False</td>\n",
       "      <td>False</td>\n",
       "      <td>False</td>\n",
       "    </tr>\n",
       "    <tr>\n",
       "      <th>2</th>\n",
       "      <td>23</td>\n",
       "      <td>3191434</td>\n",
       "      <td>146033</td>\n",
       "      <td>5339</td>\n",
       "      <td>8181</td>\n",
       "      <td>False</td>\n",
       "      <td>False</td>\n",
       "      <td>False</td>\n",
       "    </tr>\n",
       "    <tr>\n",
       "      <th>3</th>\n",
       "      <td>24</td>\n",
       "      <td>343168</td>\n",
       "      <td>10172</td>\n",
       "      <td>666</td>\n",
       "      <td>2146</td>\n",
       "      <td>False</td>\n",
       "      <td>False</td>\n",
       "      <td>False</td>\n",
       "    </tr>\n",
       "    <tr>\n",
       "      <th>4</th>\n",
       "      <td>24</td>\n",
       "      <td>2095731</td>\n",
       "      <td>132235</td>\n",
       "      <td>1989</td>\n",
       "      <td>17518</td>\n",
       "      <td>False</td>\n",
       "      <td>False</td>\n",
       "      <td>False</td>\n",
       "    </tr>\n",
       "    <tr>\n",
       "      <th>...</th>\n",
       "      <td>...</td>\n",
       "      <td>...</td>\n",
       "      <td>...</td>\n",
       "      <td>...</td>\n",
       "      <td>...</td>\n",
       "      <td>...</td>\n",
       "      <td>...</td>\n",
       "      <td>...</td>\n",
       "    </tr>\n",
       "    <tr>\n",
       "      <th>40944</th>\n",
       "      <td>15</td>\n",
       "      <td>1685609</td>\n",
       "      <td>38160</td>\n",
       "      <td>1385</td>\n",
       "      <td>2657</td>\n",
       "      <td>False</td>\n",
       "      <td>False</td>\n",
       "      <td>False</td>\n",
       "    </tr>\n",
       "    <tr>\n",
       "      <th>40945</th>\n",
       "      <td>22</td>\n",
       "      <td>1064798</td>\n",
       "      <td>60008</td>\n",
       "      <td>382</td>\n",
       "      <td>3936</td>\n",
       "      <td>False</td>\n",
       "      <td>False</td>\n",
       "      <td>False</td>\n",
       "    </tr>\n",
       "    <tr>\n",
       "      <th>40946</th>\n",
       "      <td>24</td>\n",
       "      <td>1066451</td>\n",
       "      <td>48068</td>\n",
       "      <td>1032</td>\n",
       "      <td>3992</td>\n",
       "      <td>False</td>\n",
       "      <td>False</td>\n",
       "      <td>False</td>\n",
       "    </tr>\n",
       "    <tr>\n",
       "      <th>40947</th>\n",
       "      <td>1</td>\n",
       "      <td>5660813</td>\n",
       "      <td>192957</td>\n",
       "      <td>2846</td>\n",
       "      <td>13088</td>\n",
       "      <td>False</td>\n",
       "      <td>False</td>\n",
       "      <td>False</td>\n",
       "    </tr>\n",
       "    <tr>\n",
       "      <th>40948</th>\n",
       "      <td>20</td>\n",
       "      <td>10306119</td>\n",
       "      <td>357079</td>\n",
       "      <td>212976</td>\n",
       "      <td>144795</td>\n",
       "      <td>False</td>\n",
       "      <td>False</td>\n",
       "      <td>False</td>\n",
       "    </tr>\n",
       "  </tbody>\n",
       "</table>\n",
       "<p>40949 rows × 8 columns</p>\n",
       "</div>"
      ],
      "text/plain": [
       "       category_id     views   likes  dislikes  comment_count  \\\n",
       "0               22    748374   57527      2966          15954   \n",
       "1               24   2418783   97185      6146          12703   \n",
       "2               23   3191434  146033      5339           8181   \n",
       "3               24    343168   10172       666           2146   \n",
       "4               24   2095731  132235      1989          17518   \n",
       "...            ...       ...     ...       ...            ...   \n",
       "40944           15   1685609   38160      1385           2657   \n",
       "40945           22   1064798   60008       382           3936   \n",
       "40946           24   1066451   48068      1032           3992   \n",
       "40947            1   5660813  192957      2846          13088   \n",
       "40948           20  10306119  357079    212976         144795   \n",
       "\n",
       "       comments_disabled  ratings_disabled  video_error_or_removed  \n",
       "0                  False             False                   False  \n",
       "1                  False             False                   False  \n",
       "2                  False             False                   False  \n",
       "3                  False             False                   False  \n",
       "4                  False             False                   False  \n",
       "...                  ...               ...                     ...  \n",
       "40944              False             False                   False  \n",
       "40945              False             False                   False  \n",
       "40946              False             False                   False  \n",
       "40947              False             False                   False  \n",
       "40948              False             False                   False  \n",
       "\n",
       "[40949 rows x 8 columns]"
      ]
     },
     "execution_count": 7,
     "metadata": {},
     "output_type": "execute_result"
    }
   ],
   "source": [
    "df"
   ]
  },
  {
   "cell_type": "markdown",
   "id": "efea187b",
   "metadata": {},
   "source": [
    "Se nota que las últimas tres columnas muestran valores False y True que deben ser sustituidos por 0 y 1 respectivamente que son valores numéricos que si podemos utilizar en los algoritmos de ML."
   ]
  },
  {
   "cell_type": "code",
   "execution_count": 8,
   "id": "01bf02ef",
   "metadata": {},
   "outputs": [
    {
     "data": {
      "text/html": [
       "<div>\n",
       "<style scoped>\n",
       "    .dataframe tbody tr th:only-of-type {\n",
       "        vertical-align: middle;\n",
       "    }\n",
       "\n",
       "    .dataframe tbody tr th {\n",
       "        vertical-align: top;\n",
       "    }\n",
       "\n",
       "    .dataframe thead th {\n",
       "        text-align: right;\n",
       "    }\n",
       "</style>\n",
       "<table border=\"1\" class=\"dataframe\">\n",
       "  <thead>\n",
       "    <tr style=\"text-align: right;\">\n",
       "      <th></th>\n",
       "      <th>category_id</th>\n",
       "      <th>views</th>\n",
       "      <th>likes</th>\n",
       "      <th>dislikes</th>\n",
       "      <th>comment_count</th>\n",
       "      <th>comments_disabled</th>\n",
       "      <th>ratings_disabled</th>\n",
       "      <th>video_error_or_removed</th>\n",
       "    </tr>\n",
       "  </thead>\n",
       "  <tbody>\n",
       "    <tr>\n",
       "      <th>0</th>\n",
       "      <td>22</td>\n",
       "      <td>748374</td>\n",
       "      <td>57527</td>\n",
       "      <td>2966</td>\n",
       "      <td>15954</td>\n",
       "      <td>0</td>\n",
       "      <td>0</td>\n",
       "      <td>0</td>\n",
       "    </tr>\n",
       "    <tr>\n",
       "      <th>1</th>\n",
       "      <td>24</td>\n",
       "      <td>2418783</td>\n",
       "      <td>97185</td>\n",
       "      <td>6146</td>\n",
       "      <td>12703</td>\n",
       "      <td>0</td>\n",
       "      <td>0</td>\n",
       "      <td>0</td>\n",
       "    </tr>\n",
       "    <tr>\n",
       "      <th>2</th>\n",
       "      <td>23</td>\n",
       "      <td>3191434</td>\n",
       "      <td>146033</td>\n",
       "      <td>5339</td>\n",
       "      <td>8181</td>\n",
       "      <td>0</td>\n",
       "      <td>0</td>\n",
       "      <td>0</td>\n",
       "    </tr>\n",
       "    <tr>\n",
       "      <th>3</th>\n",
       "      <td>24</td>\n",
       "      <td>343168</td>\n",
       "      <td>10172</td>\n",
       "      <td>666</td>\n",
       "      <td>2146</td>\n",
       "      <td>0</td>\n",
       "      <td>0</td>\n",
       "      <td>0</td>\n",
       "    </tr>\n",
       "    <tr>\n",
       "      <th>4</th>\n",
       "      <td>24</td>\n",
       "      <td>2095731</td>\n",
       "      <td>132235</td>\n",
       "      <td>1989</td>\n",
       "      <td>17518</td>\n",
       "      <td>0</td>\n",
       "      <td>0</td>\n",
       "      <td>0</td>\n",
       "    </tr>\n",
       "    <tr>\n",
       "      <th>...</th>\n",
       "      <td>...</td>\n",
       "      <td>...</td>\n",
       "      <td>...</td>\n",
       "      <td>...</td>\n",
       "      <td>...</td>\n",
       "      <td>...</td>\n",
       "      <td>...</td>\n",
       "      <td>...</td>\n",
       "    </tr>\n",
       "    <tr>\n",
       "      <th>40944</th>\n",
       "      <td>15</td>\n",
       "      <td>1685609</td>\n",
       "      <td>38160</td>\n",
       "      <td>1385</td>\n",
       "      <td>2657</td>\n",
       "      <td>0</td>\n",
       "      <td>0</td>\n",
       "      <td>0</td>\n",
       "    </tr>\n",
       "    <tr>\n",
       "      <th>40945</th>\n",
       "      <td>22</td>\n",
       "      <td>1064798</td>\n",
       "      <td>60008</td>\n",
       "      <td>382</td>\n",
       "      <td>3936</td>\n",
       "      <td>0</td>\n",
       "      <td>0</td>\n",
       "      <td>0</td>\n",
       "    </tr>\n",
       "    <tr>\n",
       "      <th>40946</th>\n",
       "      <td>24</td>\n",
       "      <td>1066451</td>\n",
       "      <td>48068</td>\n",
       "      <td>1032</td>\n",
       "      <td>3992</td>\n",
       "      <td>0</td>\n",
       "      <td>0</td>\n",
       "      <td>0</td>\n",
       "    </tr>\n",
       "    <tr>\n",
       "      <th>40947</th>\n",
       "      <td>1</td>\n",
       "      <td>5660813</td>\n",
       "      <td>192957</td>\n",
       "      <td>2846</td>\n",
       "      <td>13088</td>\n",
       "      <td>0</td>\n",
       "      <td>0</td>\n",
       "      <td>0</td>\n",
       "    </tr>\n",
       "    <tr>\n",
       "      <th>40948</th>\n",
       "      <td>20</td>\n",
       "      <td>10306119</td>\n",
       "      <td>357079</td>\n",
       "      <td>212976</td>\n",
       "      <td>144795</td>\n",
       "      <td>0</td>\n",
       "      <td>0</td>\n",
       "      <td>0</td>\n",
       "    </tr>\n",
       "  </tbody>\n",
       "</table>\n",
       "<p>40949 rows × 8 columns</p>\n",
       "</div>"
      ],
      "text/plain": [
       "       category_id     views   likes  dislikes  comment_count  \\\n",
       "0               22    748374   57527      2966          15954   \n",
       "1               24   2418783   97185      6146          12703   \n",
       "2               23   3191434  146033      5339           8181   \n",
       "3               24    343168   10172       666           2146   \n",
       "4               24   2095731  132235      1989          17518   \n",
       "...            ...       ...     ...       ...            ...   \n",
       "40944           15   1685609   38160      1385           2657   \n",
       "40945           22   1064798   60008       382           3936   \n",
       "40946           24   1066451   48068      1032           3992   \n",
       "40947            1   5660813  192957      2846          13088   \n",
       "40948           20  10306119  357079    212976         144795   \n",
       "\n",
       "       comments_disabled  ratings_disabled  video_error_or_removed  \n",
       "0                      0                 0                       0  \n",
       "1                      0                 0                       0  \n",
       "2                      0                 0                       0  \n",
       "3                      0                 0                       0  \n",
       "4                      0                 0                       0  \n",
       "...                  ...               ...                     ...  \n",
       "40944                  0                 0                       0  \n",
       "40945                  0                 0                       0  \n",
       "40946                  0                 0                       0  \n",
       "40947                  0                 0                       0  \n",
       "40948                  0                 0                       0  \n",
       "\n",
       "[40949 rows x 8 columns]"
      ]
     },
     "execution_count": 8,
     "metadata": {},
     "output_type": "execute_result"
    }
   ],
   "source": [
    "df.replace(to_replace=False, value = 0, inplace = True)\n",
    "df.replace(to_replace=True, value = 1, inplace = True)\n",
    "df"
   ]
  },
  {
   "cell_type": "markdown",
   "id": "a102bb2a",
   "metadata": {},
   "source": [
    "Una vez que la base de datos se ha depurado con los pasos anteriores se procede a aplicar técnicas de visualización de los datos."
   ]
  },
  {
   "cell_type": "code",
   "execution_count": 9,
   "id": "305a05e0",
   "metadata": {},
   "outputs": [
    {
     "name": "stdout",
     "output_type": "stream",
     "text": [
      "\u001b[1mPloteo de Views versus Likes\u001b[0m\n",
      "----------------------------------------------\n",
      "\r\n",
      "\n"
     ]
    },
    {
     "data": {
      "text/plain": [
       "<AxesSubplot:xlabel='likes', ylabel='views'>"
      ]
     },
     "execution_count": 9,
     "metadata": {},
     "output_type": "execute_result"
    },
    {
     "data": {
      "image/png": "[encoded data removed]",
      "text/plain": [
       "<Figure size 576x396 with 1 Axes>"
      ]
     },
     "metadata": {},
     "output_type": "display_data"
    }
   ],
   "source": [
    "print(bold(\"Ploteo de Views versus Likes\"))\n",
    "print(\"----------------------------------------------\")\n",
    "newline()    \n",
    "\n",
    "\n",
    "\n",
    "matplotlib.style.use('seaborn')\n",
    "\n",
    "df.plot.scatter(x='likes', y='views')\n"
   ]
  },
  {
   "cell_type": "markdown",
   "id": "94514ce7",
   "metadata": {},
   "source": [
    "Basado en el gráfico de dispersión anterior podemos concluir que las variables de likes y Views presentan una alta correlación positiva."
   ]
  },
  {
   "cell_type": "code",
   "execution_count": 10,
   "id": "1a175d4d",
   "metadata": {},
   "outputs": [
    {
     "name": "stdout",
     "output_type": "stream",
     "text": [
      "\u001b[1mPloteo de Likes versus Dislikes\u001b[0m\n",
      "----------------------------------------------\n",
      "\r\n",
      "\n"
     ]
    },
    {
     "data": {
      "text/plain": [
       "<AxesSubplot:xlabel='likes', ylabel='dislikes'>"
      ]
     },
     "execution_count": 10,
     "metadata": {},
     "output_type": "execute_result"
    },
    {
     "data": {
      "image/png": "[encoded data removed]",
      "text/plain": [
       "<Figure size 576x396 with 1 Axes>"
      ]
     },
     "metadata": {},
     "output_type": "display_data"
    }
   ],
   "source": [
    "print(bold(\"Ploteo de Likes versus Dislikes\"))\n",
    "print(\"----------------------------------------------\")\n",
    "newline()    \n",
    "\n",
    "\n",
    "\n",
    "matplotlib.style.use('seaborn')\n",
    "\n",
    "df.plot.scatter(x='likes', y='dislikes')\n"
   ]
  },
  {
   "cell_type": "markdown",
   "id": "61a1bb15",
   "metadata": {},
   "source": [
    "## 3. Normalización y estandarización (Feature Scaling)\n",
    "\n",
    "Una de las transformaciones más importantes que deben ser aplicadas a los datos es el escalamiento de características (feature scaling). En la mayoría de los casos, los algorítmos de aprendizaje automático no se desempeñan bien cuando la entrada de atributos numéricos presentan diferentes escalas. Existen dos formas comunes para conseguir que todos los datos de los atributos tengan la misma escala:\n",
    "\n",
    "1. **Normalización (min-max scaling)**: es la más simple; los valores son cambiados y re-escalados de tal forma que se presenten en un rango de 0 a 1. Lo anterior se logra restando el valor mínimo y dividiendo por el máximo menos el mínimo. \n",
    "\n",
    "$$Scaler(x_i)=\\frac{x_i-min(x)}{max(x) - min(x)}$$\n",
    "\n",
    "      \n",
    "2. **Estandarización:** La estandarización requiere primero restar el valor medio (mean value ${\\mu}$), por lo tanto los valores estandarizados siempre presentan una media igual a cero, y después dividir por la desviación estandar (standard deviation ${\\sigma}$), de tal forma que la distribución resultante presentará varianza igual a 1.\n",
    "\n",
    "\n",
    "$$Scaler(x_i)=\\frac{x_i-\\mu}{\\sigma}$$\n",
    "\n",
    "\n",
    "\n",
    "_____\n",
    "**Referencias:**\n",
    "\n",
    "***Hands-On Machine Learning with Scikit-Learn, Keras, and TensorFlow by Aurélien Géron.*** 2019, second edition. Prepare the Data for Machine Learning Algorithms, Feature Scaling, pág. 69-70."
   ]
  },
  {
   "cell_type": "markdown",
   "id": "585b74f8",
   "metadata": {},
   "source": [
    "### Normalización y estandarización"
   ]
  },
  {
   "cell_type": "code",
   "execution_count": 11,
   "id": "995de823",
   "metadata": {},
   "outputs": [
    {
     "name": "stdout",
     "output_type": "stream",
     "text": [
      "\u001b[1mResultado de la normalización y estandarización\u001b[0m\n",
      "----------------------------------------------\n",
      "\r\n",
      "\n",
      "       category_id     views     likes  dislikes  comment_count  \\\n",
      "0         0.500000  0.003321  0.010247  0.001771       0.011717   \n",
      "1         0.547619  0.010738  0.017312  0.003671       0.009330   \n",
      "2         0.523810  0.014168  0.026013  0.003189       0.006008   \n",
      "3         0.547619  0.001521  0.001812  0.000398       0.001576   \n",
      "4         0.547619  0.009303  0.023555  0.001188       0.012866   \n",
      "...            ...       ...       ...       ...            ...   \n",
      "40944     0.333333  0.007482  0.006798  0.000827       0.001951   \n",
      "40945     0.500000  0.004726  0.010689  0.000228       0.002891   \n",
      "40946     0.547619  0.004733  0.008562  0.000616       0.002932   \n",
      "40947     0.000000  0.025133  0.034372  0.001700       0.009612   \n",
      "40948     0.452381  0.045760  0.063607  0.127194       0.106343   \n",
      "\n",
      "       comments_disabled  ratings_disabled  video_error_or_removed  \n",
      "0                    0.0               0.0                     0.0  \n",
      "1                    0.0               0.0                     0.0  \n",
      "2                    0.0               0.0                     0.0  \n",
      "3                    0.0               0.0                     0.0  \n",
      "4                    0.0               0.0                     0.0  \n",
      "...                  ...               ...                     ...  \n",
      "40944                0.0               0.0                     0.0  \n",
      "40945                0.0               0.0                     0.0  \n",
      "40946                0.0               0.0                     0.0  \n",
      "40947                0.0               0.0                     0.0  \n",
      "40948                0.0               0.0                     0.0  \n",
      "\n",
      "[40949 rows x 8 columns]\n"
     ]
    }
   ],
   "source": [
    "print(bold(\"Resultado de la normalización y estandarización\"))\n",
    "print(\"----------------------------------------------\")\n",
    "newline()\n",
    "\n",
    "scaler = MinMaxScaler()\n",
    "nombreColumnas = df.columns.to_numpy()\n",
    "datosNormalizadosEstandarizados = pd.DataFrame(scaler.fit_transform(df), columns = nombreColumnas)\n",
    "\n",
    "print(datosNormalizadosEstandarizados)\n"
   ]
  },
  {
   "cell_type": "markdown",
   "id": "191375fd",
   "metadata": {},
   "source": [
    "Una vez normalizada y estandarizada la data procedemos a plotear de nuevo la información para poder comparar los resultados:"
   ]
  },
  {
   "cell_type": "code",
   "execution_count": 12,
   "id": "a55a02a7",
   "metadata": {},
   "outputs": [
    {
     "name": "stdout",
     "output_type": "stream",
     "text": [
      "\u001b[1mPloteo de Views versus Likes\u001b[0m\n",
      "----------------------------------------------\n",
      "\r\n",
      "\n"
     ]
    },
    {
     "data": {
      "text/plain": [
       "<AxesSubplot:xlabel='likes', ylabel='views'>"
      ]
     },
     "execution_count": 12,
     "metadata": {},
     "output_type": "execute_result"
    },
    {
     "data": {
      "image/png": "[encoded data removed]",
      "text/plain": [
       "<Figure size 576x396 with 1 Axes>"
      ]
     },
     "metadata": {},
     "output_type": "display_data"
    }
   ],
   "source": [
    "print(bold(\"Ploteo de Views versus Likes\"))\n",
    "print(\"----------------------------------------------\")\n",
    "newline()    \n",
    "\n",
    "\n",
    "\n",
    "matplotlib.style.use('seaborn')\n",
    "\n",
    "datosNormalizadosEstandarizados.plot.scatter(x='likes', y='views')\n"
   ]
  },
  {
   "cell_type": "code",
   "execution_count": 14,
   "id": "d8079720",
   "metadata": {},
   "outputs": [
    {
     "name": "stdout",
     "output_type": "stream",
     "text": [
      "\u001b[1mPloteo de Likes versus Dislikes\u001b[0m\n",
      "----------------------------------------------\n",
      "\r\n",
      "\n"
     ]
    },
    {
     "data": {
      "text/plain": [
       "<AxesSubplot:xlabel='likes', ylabel='dislikes'>"
      ]
     },
     "execution_count": 14,
     "metadata": {},
     "output_type": "execute_result"
    },
    {
     "data": {
      "image/png": "[encoded data removed]",
      "text/plain": [
       "<Figure size 576x396 with 1 Axes>"
      ]
     },
     "metadata": {},
     "output_type": "display_data"
    }
   ],
   "source": [
    "print(bold(\"Ploteo de Likes versus Dislikes\"))\n",
    "print(\"----------------------------------------------\")\n",
    "newline()    \n",
    "\n",
    "\n",
    "\n",
    "matplotlib.style.use('seaborn')\n",
    "\n",
    "datosNormalizadosEstandarizados.plot.scatter(x='likes', y='dislikes')\n"
   ]
  },
  {
   "cell_type": "markdown",
   "id": "53d9760d",
   "metadata": {},
   "source": [
    "Se puede concluir que se normalizó y estandarizó correctamente ya que se mantuvo la misma tendencia en ambos gráfico, con la única diferencia de la escala, que ahora es mucho menor que antes."
   ]
  },
  {
   "cell_type": "code",
   "execution_count": null,
   "id": "b439b1de",
   "metadata": {},
   "outputs": [],
   "source": []
  }
 ],
 "metadata": {
  "kernelspec": {
   "display_name": "Python 3",
   "language": "python",
   "name": "python3"
  },
  "language_info": {
   "codemirror_mode": {
    "name": "ipython",
    "version": 3
   },
   "file_extension": ".py",
   "mimetype": "text/x-python",
   "name": "python",
   "nbconvert_exporter": "python",
   "pygments_lexer": "ipython3",
   "version": "3.8.8"
  }
 },
 "nbformat": 4,
 "nbformat_minor": 5
}
